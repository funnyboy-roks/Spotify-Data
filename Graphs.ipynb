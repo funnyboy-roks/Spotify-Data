{
 "cells": [
  {
   "cell_type": "markdown",
   "metadata": {},
   "source": [
    "# Graphing\n",
    "\n",
    "This notebook contains code blocks that generate a few graphs, as I wanted to see the data, I will probably make this into a website in which one can upload their Spotify download and see a lot of this information.\n",
    "\n",
    "Unfortunately, the Spotify API does not seem to allow me to view listen history, so people will need to download their data and upload it again.\n",
    "\n",
    "## Setup\n",
    "\n",
    "For any of these to work, you'll need to run the `index.mjs` file, to generate the `SongHistory.json` and `StreamingHistory.json`, which are both used here\n",
    "\n",
    "```sh\n",
    "node index.mjs\n",
    "```"
   ]
  },
  {
   "cell_type": "code",
   "execution_count": null,
   "metadata": {},
   "outputs": [],
   "source": [
    "import json\n",
    "from datetime import datetime\n",
    "\n",
    "data = [];\n",
    "\n",
    "with open('StreamingHistory.json', 'r') as f:\n",
    "    data = json.loads(f.read())\n",
    "    \n",
    "for entry in data:\n",
    "    entry['endTime'] = datetime.fromisoformat(entry['endTime'])\n",
    "\n",
    "len(data)"
   ]
  },
  {
   "cell_type": "markdown",
   "metadata": {},
   "source": [
    "## Get by title\n",
    "\n",
    "The following block graphs the listen history of a single song.\n",
    "\n",
    "replace the `song` variable with the exact name of the song that you're looking for"
   ]
  },
  {
   "cell_type": "code",
   "execution_count": null,
   "metadata": {},
   "outputs": [],
   "source": [
    "# Get by title\n",
    "import matplotlib.pyplot as plt\n",
    "import numpy as np\n",
    "import pandas as pd\n",
    "\n",
    "song = 'The Sound of Silence' # Song title to look for\n",
    "\n",
    "palette = plt.get_cmap('rainbow')\n",
    "months = [0]*datetime.now().month\n",
    "filtered_data = filter(lambda entry: entry['trackName'] == song, data)\n",
    "\n",
    "for entry in filtered_data:\n",
    "    months[entry['endTime'].month -1 ] += 1\n",
    "    \n",
    "df = pd.DataFrame({\n",
    "    'x': ['Jan', 'Feb', 'Mar', 'Apr', 'May', 'Jun', 'Jul', 'Aug', 'Sep', 'Oct', 'Nov', 'Dec'][:datetime.now().month],\n",
    "    'y': months,\n",
    "})\n",
    "\n",
    "plt.title(f'Listens to {song}')\n",
    "plt.plot(df['x'], df['y'])"
   ]
  },
  {
   "cell_type": "markdown",
   "metadata": {},
   "source": [
    "## Get By Artist\n",
    "\n",
    "This block will get songs by a specific artist.  Change the `artist` variable to the exact name of the artist, and the `threshold` variable to the minimum number of listens per year"
   ]
  },
  {
   "cell_type": "code",
   "execution_count": null,
   "metadata": {},
   "outputs": [],
   "source": [
    "# Get by artist\n",
    "artist = 'Jim Croce' # Artist to look for\n",
    "threshold = 0 # Threshold of listens in total for a song to be counted\n",
    "\n",
    "filtered_data = filter(lambda entry: entry['artistName'].lower() == artist.lower(), data)\n",
    "\n",
    "songs_dict = {}\n",
    "for entry in filtered_data:\n",
    "    if entry['msPlayed'] < 5000: continue\n",
    "    if entry['trackName'] not in songs_dict.keys():\n",
    "        songs_dict[entry['trackName']] = [0] * datetime.now().month\n",
    "    songs_dict[entry['trackName']][entry['endTime'].month - 1] += 1\n",
    "    \n",
    "songs_dict = dict(filter(lambda i: sum(i[1]) > threshold, songs_dict.items()))\n",
    "\n",
    "df = pd.DataFrame({\n",
    "    'x': ['Jan', 'Feb', 'Mar', 'Apr', 'May', 'Jun', 'Jul', 'Aug', 'Sep', 'Oct', 'Nov', 'Dec'][:datetime.now().month],\n",
    "    **songs_dict\n",
    "    })\n",
    "\n",
    "scale = 2\n",
    "plt.figure(figsize=(8*scale,6*scale))\n",
    "\n",
    "palette = plt.get_cmap('rainbow').resampled(len(songs_dict))\n",
    "for i, column in enumerate(df.drop('x', axis=1)):\n",
    "    plt.plot(df['x'], df[column], marker='.', color=palette(i), linewidth=1, alpha=0.8, label=column)\n",
    "    \n",
    "plt.legend(loc=2, ncol=2)\n",
    "plt.title(f'Listens to songs by {artist}', fontsize=12)\n",
    "plt.xlabel('Month')\n",
    "plt.ylabel('Listens')\n",
    "\n",
    "plt.show()"
   ]
  },
  {
   "cell_type": "markdown",
   "metadata": {},
   "source": [
    "## Get Top Songs\n",
    "\n",
    "This block uses your spotify song listening data and gets the songs that you've listened to the most.\n",
    "\n",
    "Change the `count` variable to the amount of songs that you want to get and the `offset` for the offset from the beginning of the list"
   ]
  },
  {
   "cell_type": "code",
   "execution_count": null,
   "metadata": {},
   "outputs": [],
   "source": [
    "# Get top songs\n",
    "count = 10 # Count of songs to get\n",
    "offset = 0 # offset from the beginning\n",
    "\n",
    "listen_data = []\n",
    "\n",
    "with open('SongHistory.json', 'r') as f:\n",
    "    listen_data = list(map(lambda e: e['title'], json.loads(f.read())[offset:offset+count]))\n",
    "    \n",
    "filtered_data = filter(lambda e: e['trackName'] in listen_data, data)\n",
    "\n",
    "songs_dict = {}\n",
    "for entry in filtered_data:\n",
    "    if entry['trackName'] not in songs_dict.keys():\n",
    "        songs_dict[entry['trackName']] = [0] * datetime.now().month\n",
    "    songs_dict[entry['trackName']][entry['endTime'].month - 1] += 1\n",
    "\n",
    "entries = list(map(lambda e: (str(listen_data.index(e[0]) + 1 + offset) + '. ' + e[0],e[1]), filter(lambda i: sum(i[1]) > threshold, songs_dict.items())))\n",
    "entries.sort()\n",
    "songs_dict = dict(entries)\n",
    "\n",
    "df = pd.DataFrame({\n",
    "    'x': ['Jan', 'Feb', 'Mar', 'Apr', 'May', 'Jun', 'Jul', 'Aug', 'Sep', 'Oct', 'Nov', 'Dec'][:datetime.now().month],\n",
    "    **songs_dict\n",
    "})\n",
    "\n",
    "palette = plt.get_cmap('rainbow').resampled(len(songs_dict))\n",
    "plt.figure(figsize=(8*scale,6*scale))\n",
    "for i, column in enumerate(df.drop('x', axis=1)):\n",
    "    plt.plot(df['x'], df[column], marker='.', color=palette(i), linewidth=1, alpha=0.8, label=column)\n",
    "    \n",
    "plt.legend(loc=2, ncol=2)\n",
    "plt.title(\"Your Top Listens\", fontsize=12)\n",
    "plt.xlabel(\"Month\")\n",
    "plt.ylabel(\"Listens\")\n",
    "\n",
    "plt.show()"
   ]
  }
 ],
 "metadata": {
  "kernelspec": {
   "display_name": "Python 3.10.6 64-bit",
   "language": "python",
   "name": "python3"
  },
  "language_info": {
   "codemirror_mode": {
    "name": "ipython",
    "version": 3
   },
   "file_extension": ".py",
   "mimetype": "text/x-python",
   "name": "python",
   "nbconvert_exporter": "python",
   "pygments_lexer": "ipython3",
   "version": "3.10.6"
  },
  "orig_nbformat": 4,
  "vscode": {
   "interpreter": {
    "hash": "31f2aee4e71d21fbe5cf8b01ff0e069b9275f58929596ceb00d14d90e3e16cd6"
   }
  }
 },
 "nbformat": 4,
 "nbformat_minor": 2
}
